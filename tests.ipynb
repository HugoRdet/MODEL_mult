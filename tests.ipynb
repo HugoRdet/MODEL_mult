{
 "cells": [
  {
   "cell_type": "code",
   "execution_count": 1,
   "id": "f78c3755",
   "metadata": {},
   "outputs": [],
   "source": [
    "import os\n",
    "import re\n",
    "import matplotlib.pyplot as plt\n",
    "import numpy as np"
   ]
  },
  {
   "cell_type": "code",
   "execution_count": 2,
   "id": "e18dbca8",
   "metadata": {},
   "outputs": [],
   "source": [
    "def make():\n",
    "    os.system(\"make clean\")\n",
    "    os.system(\"make\")"
   ]
  },
  {
   "cell_type": "code",
   "execution_count": 3,
   "id": "53b90bfe",
   "metadata": {},
   "outputs": [],
   "source": [
    "def lancer_tests_3algos(max_taille,pas,NB_TESTS):\n",
    "    commande=\"./exo1 1 {max_taille} {pas} {NB_TESTS}\".format(max_taille=max_taille,pas=pas,NB_TESTS=NB_TESTS)\n",
    "    os.system(commande)\n",
    "    \n",
    "def recup_tests_3algos(pas):\n",
    "    \n",
    "    \n",
    "    f_temps = list(open(\"tests/test_general\", \"r\"))\n",
    "    \n",
    "    y_N_temps=[]\n",
    "    y_K_temps=[]\n",
    "    y_TC_temps=[]\n",
    "    \n",
    "    x_pas=[]\n",
    "    for i in range(0,len(f_temps)):\n",
    "        tmp_l=re.findall(\"\\d+\\.\\d+\", f_temps[i])\n",
    "        \n",
    "        y_N_temps.append(float(tmp_l[0]))\n",
    "        y_K_temps.append(float(tmp_l[1]))\n",
    "        y_TC_temps.append(float(tmp_l[2]))\n",
    "        \n",
    "        \n",
    "        \n",
    "        \n",
    "        x_pas.append(pas*(i+1))\n",
    "        \n",
    "    \n",
    "        \n",
    "        \n",
    "    l_y=[y_N_temps,y_K_temps,y_TC_temps]\n",
    "    l_y_noms=[\"naif\",\"Karatsuba\",\"TC4\"]\n",
    "    \n",
    "    \n",
    "    \n",
    "    return (x_pas,l_y,l_y_noms)\n",
    "\n",
    "def lancer_tests_algo(max_taille,pas,NB_TESTS):\n",
    "    commande=\"./exo1 2 {max_taille} {pas} {NB_TESTS}\".format(max_taille=max_taille,pas=pas,NB_TESTS=NB_TESTS)\n",
    "    os.system(commande)\n",
    "\n",
    "def recup_tests_algo_naif(pas):\n",
    "    \n",
    "    \n",
    "    f_temps = list(open(\"tests/test_naif\", \"r\"))\n",
    "    y_K_temps=[]\n",
    "\n",
    "    x_pas=[]\n",
    "    for i in range(0,len(f_temps)):\n",
    "        tmp_l=re.findall(\"\\d+\\.\\d+\", f_temps[i])\n",
    "        \n",
    "        \n",
    "        y_K_temps.append(float(tmp_l[0]))\n",
    "\n",
    "        x_pas.append(pas*(i+1))   \n",
    "        \n",
    "    l_y=[y_K_temps,]\n",
    "    l_y_noms=[\"naif\"]\n",
    "    \n",
    "    \n",
    "    \n",
    "    return (x_pas,l_y,l_y_noms)\n",
    "\n",
    "def recup_tests_algo_K(pas):\n",
    "    \n",
    "    \n",
    "    f_temps = list(open(\"tests/test_K\", \"r\"))\n",
    "    y_K_temps=[]\n",
    "\n",
    "    x_pas=[]\n",
    "    for i in range(0,len(f_temps)):\n",
    "        tmp_l=re.findall(\"\\d+\\.\\d+\", f_temps[i])\n",
    "        \n",
    "        \n",
    "        y_K_temps.append(float(tmp_l[0]))\n",
    "\n",
    "        x_pas.append(pas*(i+1))   \n",
    "        \n",
    "    l_y=[y_K_temps,]\n",
    "    l_y_noms=[\"Karatsuba\"]\n",
    "    \n",
    "    \n",
    "    \n",
    "    return (x_pas,l_y,l_y_noms)\n",
    "\n",
    "def recup_tests_algo_TC(pas):\n",
    "    \n",
    "    \n",
    "    f_temps = list(open(\"tests/test_TC\", \"r\"))\n",
    "    y_K_temps=[]\n",
    "\n",
    "    x_pas=[]\n",
    "    for i in range(0,len(f_temps)):\n",
    "        tmp_l=re.findall(\"\\d+\\.\\d+\", f_temps[i])\n",
    "        \n",
    "        \n",
    "        y_K_temps.append(float(tmp_l[0]))\n",
    "\n",
    "        x_pas.append(pas*(i+1))   \n",
    "        \n",
    "    l_y=[y_K_temps,]\n",
    "    l_y_noms=[\"TC\"]\n",
    "    \n",
    "    \n",
    "    \n",
    "    return (x_pas,l_y,l_y_noms)"
   ]
  },
  {
   "cell_type": "code",
   "execution_count": 76,
   "id": "838a61f6",
   "metadata": {},
   "outputs": [],
   "source": [
    "def log_courbe(l):\n",
    "    return [np.log2(k) for k in l]\n",
    "\n",
    "def log_courbes(l):\n",
    "    return [log_courbe(k) for k in l]\n",
    "\n",
    "def tracer_courbes(x,l_y,l_y_noms,x_label,y_label,title):\n",
    "    fig, ax = plt.subplots()\n",
    "    \n",
    "    for i in range(0,len(l_y)):\n",
    "        ax.plot(x,l_y[i],label=l_y_noms[i])\n",
    "    \n",
    "    plt.legend(loc='upper left')\n",
    "    ax.set(xlabel=x_label, ylabel=y_label,title=title)\n",
    "    \n",
    "    plt.grid()\n",
    "    fig.savefig(\"test_karatsuba_log.png\")\n",
    "    plt.show()"
   ]
  },
  {
   "cell_type": "code",
   "execution_count": 5,
   "id": "a7c3f14e",
   "metadata": {},
   "outputs": [
    {
     "name": "stdout",
     "output_type": "stream",
     "text": [
      "rm -f *.o \n",
      "gcc -Ofast -Wall  -c exo1.c\n",
      "gcc -Ofast -Wall  -c fonctions_utilitaires.c\n",
      "gcc -Ofast -Wall  -c algorithmes.c\n",
      "gcc -Ofast -Wall  -c test.c\n",
      "gcc -Ofast -Wall -o exo1 exo1.o test.o fonctions_utilitaires.o algorithmes.o\n"
     ]
    }
   ],
   "source": [
    "make()"
   ]
  },
  {
   "cell_type": "code",
   "execution_count": 80,
   "id": "a8bdbd23",
   "metadata": {},
   "outputs": [],
   "source": [
    "NB_TESTS=3\n",
    "pas=10000\n",
    "max_taille=150000\n",
    "\n",
    "       "
   ]
  },
  {
   "cell_type": "code",
   "execution_count": 81,
   "id": "87aea81b",
   "metadata": {},
   "outputs": [
    {
     "name": "stdout",
     "output_type": "stream",
     "text": [
      "10000 0.395126 0.437723 0.105569\n",
      "20000 1.577717 1.345055 0.747454\n",
      "30000 2.085154 1.369565 0.750544\n",
      "40000 3.668466 4.066563 0.737856\n",
      "50000 5.744977 3.999373 0.737211\n",
      "60000 8.389239 4.120383 0.739402\n",
      "70000 11.207582 11.911883 5.128320\n",
      "80000 14.612108 11.920851 5.122450\n",
      "90000 18.525864 11.912749 5.216477\n",
      "100000 22.888920 11.872496 5.152002\n",
      "110000 27.730479 12.003042 5.195800\n",
      "120000 32.962913 12.029655 5.162977\n",
      "130000 39.231455 12.233823 5.231299\n",
      "140000 45.103001 35.019904 5.239926\n"
     ]
    }
   ],
   "source": [
    "lancer_tests_3algos(max_taille,pas,NB_TESTS)"
   ]
  },
  {
   "cell_type": "code",
   "execution_count": 82,
   "id": "4803b506",
   "metadata": {},
   "outputs": [],
   "source": [
    "(x_pas_b,l_y_K,l_y_noms_K) = recup_tests_algo_K(pas)\n",
    "(x_pas_b_TC,l_y_TC,l_y_noms_TC) = recup_tests_algo_TC(pas)\n",
    "(x_pas_b,l_y_naif,l_y_noms_naif) = recup_tests_algo_naif(pas)"
   ]
  },
  {
   "cell_type": "code",
   "execution_count": 83,
   "id": "bd13e5ab",
   "metadata": {},
   "outputs": [
    {
     "data": {
      "image/png": "[encoded data removed]",
      "text/plain": [
       "<Figure size 432x288 with 1 Axes>"
      ]
     },
     "metadata": {
      "needs_background": "light"
     },
     "output_type": "display_data"
    }
   ],
   "source": [
    "x_label='degree '\n",
    "y_label='execution time (s) '\n",
    "title='Karatsuba algorithm  (samples :{essais}) '.format(essais=NB_TESTS)\n",
    "\n",
    "tmp_courbe=l_y_TC\n",
    "tmp_label=l_y_noms_K\n",
    "\n",
    "tracer_courbes(log_courbe(x_pas_b_TC),log_courbes(tmp_courbe),tmp_label,x_label,y_label,title)"
   ]
  },
  {
   "cell_type": "code",
   "execution_count": 84,
   "id": "b25be32c",
   "metadata": {},
   "outputs": [
    {
     "data": {
      "image/png": "[encoded data removed]",
      "text/plain": [
       "<Figure size 432x288 with 1 Axes>"
      ]
     },
     "metadata": {
      "needs_background": "light"
     },
     "output_type": "display_data"
    }
   ],
   "source": [
    "(x_pas,l_y,l_y_noms)=recup_tests_3algos(pas)\n",
    "\n",
    "x_label='degree '\n",
    "y_label='execution time (s) '\n",
    "title='naïve algorithm  (samples :{essais}) '.format(essais=NB_TESTS)\n",
    "tracer_courbes(x_pas,l_y,l_y_noms,x_label,y_label,title)"
   ]
  },
  {
   "cell_type": "code",
   "execution_count": null,
   "id": "0d8ad891",
   "metadata": {},
   "outputs": [],
   "source": []
  }
 ],
 "metadata": {
  "kernelspec": {
   "display_name": "Python 3 (ipykernel)",
   "language": "python",
   "name": "python3"
  },
  "language_info": {
   "codemirror_mode": {
    "name": "ipython",
    "version": 3
   },
   "file_extension": ".py",
   "mimetype": "text/x-python",
   "name": "python",
   "nbconvert_exporter": "python",
   "pygments_lexer": "ipython3",
   "version": "3.8.12"
  }
 },
 "nbformat": 4,
 "nbformat_minor": 5
}
