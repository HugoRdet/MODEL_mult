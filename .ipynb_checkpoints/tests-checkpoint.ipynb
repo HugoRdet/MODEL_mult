{
 "cells": [
  {
   "cell_type": "code",
   "execution_count": 1,
   "id": "f78c3755",
   "metadata": {},
   "outputs": [],
   "source": [
    "import os\n",
    "import re\n",
    "import matplotlib.pyplot as plt\n",
    "import numpy as np"
   ]
  },
  {
   "cell_type": "code",
   "execution_count": 2,
   "id": "e18dbca8",
   "metadata": {},
   "outputs": [],
   "source": [
    "def make():\n",
    "    os.system(\"make clean\")\n",
    "    os.system(\"make\")"
   ]
  },
  {
   "cell_type": "code",
   "execution_count": 142,
   "id": "53b90bfe",
   "metadata": {},
   "outputs": [],
   "source": [
    "def lancer_tests_3algos(max_taille,pas,NB_TESTS):\n",
    "    commande=\"./exo1 1 {max_taille} {pas} {NB_TESTS}\".format(max_taille=max_taille,pas=pas,NB_TESTS=NB_TESTS)\n",
    "    os.system(commande)\n",
    "    \n",
    "def recup_tests_3algos(pas):\n",
    "    \n",
    "    \n",
    "    f_temps = list(open(\"tests/test_general\", \"r\"))\n",
    "    \n",
    "    y_N_temps=[]\n",
    "    y_K_temps=[]\n",
    "    y_TC_temps=[]\n",
    "    \n",
    "    x_pas=[]\n",
    "    for i in range(0,len(f_temps)):\n",
    "        tmp_l=re.findall(\"\\d+\\.\\d+\", f_temps[i])\n",
    "        \n",
    "        y_N_temps.append(float(tmp_l[0]))\n",
    "        y_K_temps.append(float(tmp_l[1]))\n",
    "        y_TC_temps.append(float(tmp_l[2]))\n",
    "        \n",
    "        \n",
    "        \n",
    "        \n",
    "        x_pas.append(pas*(i+1))\n",
    "        \n",
    "    \n",
    "        \n",
    "        \n",
    "    l_y=[y_N_temps,y_K_temps,y_TC_temps]\n",
    "    l_y_noms=[\"naif\",\"Karatsuba\",\"TC4\"]\n",
    "    \n",
    "    \n",
    "    \n",
    "    return (x_pas,l_y,l_y_noms)\n",
    "\n",
    "def lancer_tests_algo(max_taille,pas,NB_TESTS):\n",
    "    commande=\"./exo1 2 {max_taille} {pas} {NB_TESTS}\".format(max_taille=max_taille,pas=pas,NB_TESTS=NB_TESTS)\n",
    "    os.system(commande)\n",
    "\n",
    "def recup_tests_algo_naif(pas):\n",
    "    \n",
    "    \n",
    "    f_temps = list(open(\"tests/test_naif\", \"r\"))\n",
    "    y_K_temps=[]\n",
    "\n",
    "    x_pas=[]\n",
    "    for i in range(0,len(f_temps)):\n",
    "        tmp_l=re.findall(\"\\d+\\.\\d+\", f_temps[i])\n",
    "        \n",
    "        \n",
    "        y_K_temps.append(float(tmp_l[0]))\n",
    "\n",
    "        x_pas.append(pas*(i+1))   \n",
    "        \n",
    "    l_y=[y_K_temps,]\n",
    "    l_y_noms=[\"naif\"]\n",
    "    \n",
    "    \n",
    "    \n",
    "    return (x_pas,l_y,l_y_noms)\n",
    "\n",
    "def recup_tests_algo_K(pas):\n",
    "    \n",
    "    \n",
    "    f_temps = list(open(\"tests/test_TC3\", \"r\"))\n",
    "    y_K_temps=[]\n",
    "\n",
    "    x_pas=[]\n",
    "    for i in range(0,len(f_temps)):\n",
    "        tmp_l=re.findall(\"\\d+\\.\\d+\", f_temps[i])\n",
    "        \n",
    "        \n",
    "        y_K_temps.append(float(tmp_l[0]))\n",
    "\n",
    "        x_pas.append(pas*(i+1))   \n",
    "        \n",
    "    l_y=[y_K_temps,]\n",
    "    l_y_noms=[\"TC3\"]\n",
    "    \n",
    "    \n",
    "    \n",
    "    return (x_pas,l_y,l_y_noms)\n",
    "\n",
    "def recup_tests_algo_TC(pas):\n",
    "    \n",
    "    \n",
    "    f_temps = list(open(\"tests/test_TC\", \"r\"))\n",
    "    y_K_temps=[]\n",
    "\n",
    "    x_pas=[]\n",
    "    for i in range(0,len(f_temps)):\n",
    "        tmp_2=re.findall(\"\\d+\", f_temps[i])\n",
    "        tmp_l=re.findall(\"\\d+\\.\\d+\", f_temps[i])\n",
    "        if tmp_l==[]:\n",
    "            break\n",
    "        \n",
    "        y_K_temps.append(float(tmp_l[0]))\n",
    "        x_pas.append(int(tmp_2[0]))   \n",
    "        \n",
    "    l_y=[y_K_temps,]\n",
    "    l_y_noms=[\"TC4\"]\n",
    "    \n",
    "    \n",
    "    \n",
    "    return (x_pas,l_y,l_y_noms)"
   ]
  },
  {
   "cell_type": "code",
   "execution_count": 143,
   "id": "838a61f6",
   "metadata": {},
   "outputs": [],
   "source": [
    "def log_courbe(l):\n",
    "    return [np.log(k)/np.log(3) for k in l]\n",
    "\n",
    "def log_courbes(l):\n",
    "    return [log_courbe(k) for k in l]\n",
    "\n",
    "def tracer_courbes(x,l_y,l_y_noms,x_label,y_label,title):\n",
    "    fig, ax = plt.subplots()\n",
    "    \n",
    "    for i in range(0,len(l_y)):\n",
    "        ax.plot(x,l_y[i],label=l_y_noms[i])\n",
    "    \n",
    "    tmp_p_imp_x=[]\n",
    "    tmp_p_imp_y=[]\n",
    "    for i in range(0,len(x)):\n",
    "        if x[i]>6.00 and x[i]<6.05:\n",
    "            tmp_p_imp_x.append(x[i])\n",
    "            tmp_p_imp_y.append(l_y[0][i])\n",
    "        if x[i]>4.00 and x[i]<4.05:\n",
    "            tmp_p_imp_x.append(x[i])\n",
    "            tmp_p_imp_y.append(l_y[0][i])\n",
    "        if x[i]>7.00 and x[i]<5.05:\n",
    "            tmp_p_imp_x.append(x[i])\n",
    "            tmp_p_imp_y.append(l_y[0][i])\n",
    "            \n",
    "    #axx, bxx = np.polyfit(tmp_p_imp_x, tmp_p_imp_y, deg=1)\n",
    "    #print(axx)\n",
    "    #y_est= axx * np.array(x)+bxx\n",
    "    plt.legend(loc='upper left')\n",
    "    ax.set(xlabel=x_label, ylabel=y_label,title=title)\n",
    "    #ax.plot(np.array(x), y_est, '-')\n",
    "    plt.grid()\n",
    "    fig.savefig(\"test_karatsuba_log.png\")\n",
    "    plt.show()"
   ]
  },
  {
   "cell_type": "code",
   "execution_count": 137,
   "id": "a7c3f14e",
   "metadata": {
    "scrolled": false
   },
   "outputs": [
    {
     "name": "stdout",
     "output_type": "stream",
     "text": [
      "rm -f *.o \n",
      "gcc -Ofast -Wall  -c exo1.c\n",
      "gcc -Ofast -Wall  -c fonctions_utilitaires.c\n",
      "gcc -Ofast -Wall  -c algorithmes.c\n",
      "gcc -Ofast -Wall  -c test.c\n",
      "gcc -Ofast -Wall -o exo1 exo1.o test.o fonctions_utilitaires.o algorithmes.o\n"
     ]
    }
   ],
   "source": [
    "make()"
   ]
  },
  {
   "cell_type": "code",
   "execution_count": 138,
   "id": "a8bdbd23",
   "metadata": {},
   "outputs": [],
   "source": [
    "NB_TESTS=10\n",
    "pas=1\n",
    "max_taille=1100\n",
    "\n",
    "      "
   ]
  },
  {
   "cell_type": "code",
   "execution_count": 139,
   "id": "87aea81b",
   "metadata": {},
   "outputs": [],
   "source": [
    "lancer_tests_algo(max_taille,pas,NB_TESTS)"
   ]
  },
  {
   "cell_type": "code",
   "execution_count": 144,
   "id": "4803b506",
   "metadata": {},
   "outputs": [],
   "source": [
    "(x_pas_b,l_y_K,l_y_noms_K) = recup_tests_algo_K(pas)\n",
    "(x_pas_b_TC,l_y_TC,l_y_noms_TC) = recup_tests_algo_TC(pas)\n",
    "(x_pas_b,l_y_naif,l_y_noms_naif) = recup_tests_algo_naif(pas)"
   ]
  },
  {
   "cell_type": "code",
   "execution_count": 149,
   "id": "bd13e5ab",
   "metadata": {},
   "outputs": [
    {
     "ename": "IndexError",
     "evalue": "list index out of range",
     "output_type": "error",
     "traceback": [
      "\u001b[0;31m---------------------------------------------------------------------------\u001b[0m",
      "\u001b[0;31mIndexError\u001b[0m                                Traceback (most recent call last)",
      "\u001b[0;32m/var/folders/7h/zp6dsh4x7fd2nchcrh553wk00000gn/T/ipykernel_51638/1392442928.py\u001b[0m in \u001b[0;36m<module>\u001b[0;34m\u001b[0m\n\u001b[1;32m      4\u001b[0m \u001b[0mtmp_courbe\u001b[0m\u001b[0;34m=\u001b[0m\u001b[0;34m[\u001b[0m\u001b[0ml_y_TC\u001b[0m\u001b[0;34m[\u001b[0m\u001b[0;36m0\u001b[0m\u001b[0;34m]\u001b[0m\u001b[0;34m]\u001b[0m\u001b[0;34m+\u001b[0m\u001b[0;34m[\u001b[0m\u001b[0ml_y_K\u001b[0m\u001b[0;34m[\u001b[0m\u001b[0;36m0\u001b[0m\u001b[0;34m]\u001b[0m\u001b[0;34m[\u001b[0m\u001b[0;36m2\u001b[0m\u001b[0;34m:\u001b[0m\u001b[0;34m]\u001b[0m\u001b[0;34m]\u001b[0m\u001b[0;34m\u001b[0m\u001b[0;34m\u001b[0m\u001b[0m\n\u001b[1;32m      5\u001b[0m \u001b[0mtmp_label\u001b[0m\u001b[0;34m=\u001b[0m\u001b[0ml_y_noms_TC\u001b[0m\u001b[0;34m\u001b[0m\u001b[0;34m\u001b[0m\u001b[0m\n\u001b[0;32m----> 6\u001b[0;31m \u001b[0mtracer_courbes\u001b[0m\u001b[0;34m(\u001b[0m\u001b[0mx_pas_b_TC\u001b[0m\u001b[0;34m,\u001b[0m\u001b[0mtmp_courbe\u001b[0m\u001b[0;34m,\u001b[0m\u001b[0mtmp_label\u001b[0m\u001b[0;34m,\u001b[0m\u001b[0mx_label\u001b[0m\u001b[0;34m,\u001b[0m\u001b[0my_label\u001b[0m\u001b[0;34m,\u001b[0m\u001b[0mtitle\u001b[0m\u001b[0;34m)\u001b[0m\u001b[0;34m\u001b[0m\u001b[0;34m\u001b[0m\u001b[0m\n\u001b[0m\u001b[1;32m      7\u001b[0m \u001b[0;34m\u001b[0m\u001b[0m\n",
      "\u001b[0;32m/var/folders/7h/zp6dsh4x7fd2nchcrh553wk00000gn/T/ipykernel_51638/1570344458.py\u001b[0m in \u001b[0;36mtracer_courbes\u001b[0;34m(x, l_y, l_y_noms, x_label, y_label, title)\u001b[0m\n\u001b[1;32m      9\u001b[0m \u001b[0;34m\u001b[0m\u001b[0m\n\u001b[1;32m     10\u001b[0m     \u001b[0;32mfor\u001b[0m \u001b[0mi\u001b[0m \u001b[0;32min\u001b[0m \u001b[0mrange\u001b[0m\u001b[0;34m(\u001b[0m\u001b[0;36m0\u001b[0m\u001b[0;34m,\u001b[0m\u001b[0mlen\u001b[0m\u001b[0;34m(\u001b[0m\u001b[0ml_y\u001b[0m\u001b[0;34m)\u001b[0m\u001b[0;34m)\u001b[0m\u001b[0;34m:\u001b[0m\u001b[0;34m\u001b[0m\u001b[0;34m\u001b[0m\u001b[0m\n\u001b[0;32m---> 11\u001b[0;31m         \u001b[0max\u001b[0m\u001b[0;34m.\u001b[0m\u001b[0mplot\u001b[0m\u001b[0;34m(\u001b[0m\u001b[0mx\u001b[0m\u001b[0;34m,\u001b[0m\u001b[0ml_y\u001b[0m\u001b[0;34m[\u001b[0m\u001b[0mi\u001b[0m\u001b[0;34m]\u001b[0m\u001b[0;34m,\u001b[0m\u001b[0mlabel\u001b[0m\u001b[0;34m=\u001b[0m\u001b[0ml_y_noms\u001b[0m\u001b[0;34m[\u001b[0m\u001b[0mi\u001b[0m\u001b[0;34m]\u001b[0m\u001b[0;34m)\u001b[0m\u001b[0;34m\u001b[0m\u001b[0;34m\u001b[0m\u001b[0m\n\u001b[0m\u001b[1;32m     12\u001b[0m \u001b[0;34m\u001b[0m\u001b[0m\n\u001b[1;32m     13\u001b[0m     \u001b[0mtmp_p_imp_x\u001b[0m\u001b[0;34m=\u001b[0m\u001b[0;34m[\u001b[0m\u001b[0;34m]\u001b[0m\u001b[0;34m\u001b[0m\u001b[0;34m\u001b[0m\u001b[0m\n",
      "\u001b[0;31mIndexError\u001b[0m: list index out of range"
     ]
    },
    {
     "data": {
      "image/png": "[encoded data removed]",
      "text/plain": [
       "<Figure size 432x288 with 1 Axes>"
      ]
     },
     "metadata": {
      "needs_background": "light"
     },
     "output_type": "display_data"
    }
   ],
   "source": [
    "x_label='degree '\n",
    "y_label='execution time (s)  '\n",
    "title='TC3  (samples :{essais})  '.format(essais=NB_TESTS)\n",
    "tmp_courbe=[l_y_TC[0][2:]]+[l_y_K[0][2:]]\n",
    "tmp_label=l_y_noms_TC\n",
    "tracer_courbes(x_pas_b_TC,tmp_courbe,tmp_label,x_label,y_label,title)\n",
    "\n"
   ]
  },
  {
   "cell_type": "code",
   "execution_count": null,
   "id": "0d8ad891",
   "metadata": {},
   "outputs": [],
   "source": []
  },
  {
   "cell_type": "code",
   "execution_count": null,
   "id": "5e8cf91d",
   "metadata": {},
   "outputs": [],
   "source": []
  }
 ],
 "metadata": {
  "kernelspec": {
   "display_name": "Python 3 (ipykernel)",
   "language": "python",
   "name": "python3"
  },
  "language_info": {
   "codemirror_mode": {
    "name": "ipython",
    "version": 3
   },
   "file_extension": ".py",
   "mimetype": "text/x-python",
   "name": "python",
   "nbconvert_exporter": "python",
   "pygments_lexer": "ipython3",
   "version": "3.8.12"
  }
 },
 "nbformat": 4,
 "nbformat_minor": 5
}
