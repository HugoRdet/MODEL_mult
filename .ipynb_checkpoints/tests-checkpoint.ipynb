{
 "cells": [
  {
   "cell_type": "code",
   "execution_count": 4,
   "id": "f78c3755",
   "metadata": {},
   "outputs": [],
   "source": [
    "import os\n",
    "import re\n",
    "import matplotlib.pyplot as plt\n",
    "import numpy as np"
   ]
  },
  {
   "cell_type": "code",
   "execution_count": 5,
   "id": "e18dbca8",
   "metadata": {},
   "outputs": [],
   "source": [
    "def make():\n",
    "    os.system(\"make clean\")\n",
    "    os.system(\"make\")"
   ]
  },
  {
   "cell_type": "code",
   "execution_count": 83,
   "id": "53b90bfe",
   "metadata": {},
   "outputs": [],
   "source": [
    "def lancer_tests_3algos(max_taille,pas,NB_TESTS):\n",
    "    commande=\"./exo1 1 {max_taille} {pas} {NB_TESTS}\".format(max_taille=max_taille,pas=pas,NB_TESTS=NB_TESTS)\n",
    "    os.system(commande)\n",
    "    \n",
    "def recup_tests_3algos(pas):\n",
    "    \n",
    "    \n",
    "    f_temps = list(open(\"tests/test_general\", \"r\"))\n",
    "    \n",
    "    y_N_temps=[]\n",
    "    y_K_temps=[]\n",
    "    y_TC_temps=[]\n",
    "    \n",
    "    x_pas=[]\n",
    "    for i in range(0,len(f_temps)):\n",
    "        tmp_l=re.findall(\"\\d+\\.\\d+\", f_temps[i])\n",
    "        \n",
    "        y_N_temps.append(float(tmp_l[0]))\n",
    "        y_K_temps.append(float(tmp_l[1]))\n",
    "        y_TC_temps.append(float(tmp_l[2]))\n",
    "        \n",
    "        \n",
    "        \n",
    "        \n",
    "        x_pas.append(pas*(i+1))\n",
    "        \n",
    "    \n",
    "        \n",
    "        \n",
    "    l_y=[y_N_temps,y_K_temps,y_TC_temps]\n",
    "    l_y_noms=[\"naif\",\"Karatsuba\",\"TC4\"]\n",
    "    \n",
    "    \n",
    "    \n",
    "    return (x_pas,l_y,l_y_noms)\n",
    "\n",
    "def lancer_tests_algo(max_taille,pas,NB_TESTS):\n",
    "    commande=\"./exo1 2 {max_taille} {pas} {NB_TESTS}\".format(max_taille=max_taille,pas=pas,NB_TESTS=NB_TESTS)\n",
    "    os.system(commande)\n",
    "\n",
    "def recup_tests_algo(pas):\n",
    "    \n",
    "    \n",
    "    f_temps = list(open(\"tests/test_K\", \"r\"))\n",
    "    y_K_temps=[]\n",
    "\n",
    "    x_pas=[]\n",
    "    for i in range(0,len(f_temps)):\n",
    "        tmp_l=re.findall(\"\\d+\\.\\d+\", f_temps[i])\n",
    "        \n",
    "        \n",
    "        y_K_temps.append(float(tmp_l[0]))\n",
    "\n",
    "        x_pas.append(pas*(i+1))   \n",
    "        \n",
    "    l_y=[y_K_temps,]\n",
    "    l_y_noms=[\"TC4\"]\n",
    "    \n",
    "    \n",
    "    \n",
    "    return (x_pas,l_y,l_y_noms)"
   ]
  },
  {
   "cell_type": "code",
   "execution_count": 84,
   "id": "838a61f6",
   "metadata": {},
   "outputs": [],
   "source": [
    "def log_courbe(l):\n",
    "    return [np.log(k) for k in l]\n",
    "\n",
    "def log_courbes(l):\n",
    "    return [log_courbe(k) for k in l]\n",
    "\n",
    "def tracer_courbes(x,l_y,l_y_noms,x_label,y_label,title):\n",
    "    fig, ax = plt.subplots()\n",
    "    \n",
    "    for i in range(0,len(l_y)):\n",
    "        ax.plot(x,l_y[i],label=l_y_noms[i])\n",
    "    \n",
    "    plt.legend(loc='upper left')\n",
    "    ax.set(xlabel=x_label, ylabel=y_label,title=title)\n",
    "    \n",
    "    fig.savefig(\"test.png\")\n",
    "    plt.show()"
   ]
  },
  {
   "cell_type": "code",
   "execution_count": 107,
   "id": "a7c3f14e",
   "metadata": {},
   "outputs": [
    {
     "name": "stdout",
     "output_type": "stream",
     "text": [
      "rm -f *.o \n",
      "gcc -Ofast -Wall  -c exo1.c\n",
      "gcc -Ofast -Wall  -c fonctions_utilitaires.c\n",
      "gcc -Ofast -Wall  -c algorithmes.c\n",
      "gcc -Ofast -Wall  -c test.c\n",
      "gcc -Ofast -Wall -o exo1 exo1.o test.o fonctions_utilitaires.o algorithmes.o\n"
     ]
    }
   ],
   "source": [
    "make()"
   ]
  },
  {
   "cell_type": "code",
   "execution_count": null,
   "id": "a8bdbd23",
   "metadata": {},
   "outputs": [],
   "source": [
    "NB_TESTS=300\n",
    "pas=500\n",
    "max_taille=250000\n",
    "lancer_tests_2algos(max_taille,pas,NB_TESTS)\n"
   ]
  },
  {
   "cell_type": "code",
   "execution_count": null,
   "id": "4803b506",
   "metadata": {},
   "outputs": [],
   "source": [
    "(x_pas_b,l_y_b,l_y_noms_b) = recup_tests_algo(pas)"
   ]
  },
  {
   "cell_type": "code",
   "execution_count": null,
   "id": "bd13e5ab",
   "metadata": {},
   "outputs": [],
   "source": [
    "x_label='taille'\n",
    "y_label='temps d execution (s)'\n",
    "title='test des algos  (essais :{essais})'.format(essais=NB_TESTS)\n",
    "tracer_courbes(x_pas_b,l_y_b,l_y_noms_b,x_label,y_label,title)"
   ]
  },
  {
   "cell_type": "code",
   "execution_count": null,
   "id": "b25be32c",
   "metadata": {},
   "outputs": [],
   "source": []
  }
 ],
 "metadata": {
  "kernelspec": {
   "display_name": "Python 3 (ipykernel)",
   "language": "python",
   "name": "python3"
  },
  "language_info": {
   "codemirror_mode": {
    "name": "ipython",
    "version": 3
   },
   "file_extension": ".py",
   "mimetype": "text/x-python",
   "name": "python",
   "nbconvert_exporter": "python",
   "pygments_lexer": "ipython3",
   "version": "3.8.12"
  }
 },
 "nbformat": 4,
 "nbformat_minor": 5
}
